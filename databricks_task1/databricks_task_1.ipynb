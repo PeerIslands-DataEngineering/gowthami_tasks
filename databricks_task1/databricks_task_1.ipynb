{
 "cells": [
  {
   "cell_type": "code",
   "execution_count": 0,
   "metadata": {
    "application/vnd.databricks.v1+cell": {
     "cellMetadata": {
      "byteLimit": 2048000,
      "rowLimit": 10000
     },
     "inputWidgets": {},
     "nuid": "6b076482-995d-4210-914e-ce2bd2f1828e",
     "showTitle": false,
     "tableResultSettingsMap": {},
     "title": ""
    }
   },
   "outputs": [
    {
     "output_type": "stream",
     "name": "stdout",
     "output_type": "stream",
     "text": [
      "+----------+----------+-----------+------+\n|product_id|      name|   category| price|\n+----------+----------+-----------+------+\n|      P001|    Laptop|Electronics|999.99|\n|      P002|Smartphone|Electronics|499.99|\n|      P003|   T-Shirt|   Clothing| 29.99|\n+----------+----------+-----------+------+\n\n"
     ]
    }
   ],
   "source": [
    "\n",
    "from delta.tables import *\n",
    "\n",
    "initial_data = [\n",
    "    (\"P001\", \"Laptop\", \"Electronics\", 999.99),\n",
    "    (\"P002\", \"Smartphone\", \"Electronics\", 499.99),\n",
    "    (\"P003\", \"T-Shirt\", \"Clothing\", 29.99)\n",
    "]\n",
    "\n",
    "initial_columns = [\"product_id\", \"name\", \"category\", \"price\"]\n",
    "\n",
    "df_initial = spark.createDataFrame(initial_data, initial_columns)\n",
    "df_initial.write.format(\"delta\").mode(\"overwrite\").saveAsTable(\"default.products\")\n",
    "\n",
    "spark.sql(\"select * from default.products\").show()"
   ]
  },
  {
   "cell_type": "code",
   "execution_count": 0,
   "metadata": {
    "application/vnd.databricks.v1+cell": {
     "cellMetadata": {
      "byteLimit": 2048000,
      "rowLimit": 10000
     },
     "inputWidgets": {},
     "nuid": "028b8dee-1625-4422-8d90-c0c4d918d1b6",
     "showTitle": false,
     "tableResultSettingsMap": {},
     "title": ""
    }
   },
   "outputs": [],
   "source": [
    "\n",
    "update_data = [\n",
    "    (\"P001\", \"Laptop\", \"Electronics\", 1099.99, 50.0),\n",
    "    (\"P004\", \"Headphones\", \"Electronics\", 149.99, 10.0),\n",
    "    (\"P005\", \"Jeans\", \"Clothing\", 59.99, 5.0)\n",
    "]\n",
    "\n",
    "update_columns = [\"product_id\", \"name\", \"category\", \"price\", \"discount\"]\n",
    "df_updates = spark.createDataFrame(update_data, update_columns)\n",
    "\n",
    "\n",
    "delta_table = DeltaTable.forName(spark, \"default.products\")\n",
    "df_updates.limit(0).write.format(\"delta\").mode(\"append\").option(\"mergeSchema\", \"true\").saveAsTable(\"default.products\")\n",
    "\n"
   ]
  },
  {
   "cell_type": "code",
   "execution_count": 0,
   "metadata": {
    "application/vnd.databricks.v1+cell": {
     "cellMetadata": {
      "byteLimit": 2048000,
      "rowLimit": 10000
     },
     "inputWidgets": {},
     "nuid": "40b2abd6-2e16-4654-98a7-3152d66388fd",
     "showTitle": false,
     "tableResultSettingsMap": {},
     "title": ""
    }
   },
   "outputs": [
    {
     "output_type": "stream",
     "name": "stdout",
     "output_type": "stream",
     "text": [
      "+----------+----------+-----------+-------+--------+\n|product_id|      name|   category|  price|discount|\n+----------+----------+-----------+-------+--------+\n|      P004|Headphones|Electronics| 149.99|    10.0|\n|      P001|    Laptop|Electronics|1099.99|    50.0|\n|      P005|     Jeans|   Clothing|  59.99|     5.0|\n|      P002|Smartphone|Electronics| 499.99|    NULL|\n|      P003|   T-Shirt|   Clothing|  29.99|    NULL|\n+----------+----------+-----------+-------+--------+\n\n+-------+-------------------+--------------+------------------------------+---------------------------------+--------------------------------------------------------------------------------------------------------------------------------------------------------------------------------------------------------------------------------------+----+--------+------------------------+-----------+-----------------+-------------+-------------------------------------------------------------------------------------------------------------------------------------------------------------------------------------------------------------------------------------------------------------------------------------------------------------------------------------------------------------------------------------------------------------------------------------------------------------------------------------------------------------------------------------------------------------------------------------------------------------------------------------------------------------------------------------+------------+--------------------------------------------------+\n|version|timestamp          |userId        |userName                      |operation                        |operationParameters                                                                                                                                                                                                                   |job |notebook|clusterId               |readVersion|isolationLevel   |isBlindAppend|operationMetrics                                                                                                                                                                                                                                                                                                                                                                                                                                                                                                                                                                                                                                                                     |userMetadata|engineInfo                                        |\n+-------+-------------------+--------------+------------------------------+---------------------------------+--------------------------------------------------------------------------------------------------------------------------------------------------------------------------------------------------------------------------------------+----+--------+------------------------+-----------+-----------------+-------------+-------------------------------------------------------------------------------------------------------------------------------------------------------------------------------------------------------------------------------------------------------------------------------------------------------------------------------------------------------------------------------------------------------------------------------------------------------------------------------------------------------------------------------------------------------------------------------------------------------------------------------------------------------------------------------------+------------+--------------------------------------------------+\n|28     |2025-07-09 07:06:13|75452552879213|chillimunthagowthami@gmail.com|OPTIMIZE                         |{predicate -> [], auto -> true, clusterBy -> [], zOrderBy -> [], batchId -> 0}                                                                                                                                                        |NULL|NULL    |0709-061657-nr1o701z-v2n|27         |SnapshotIsolation|false        |{numRemovedFiles -> 4, numRemovedBytes -> 5739, p25FileSize -> 1628, numDeletionVectorsRemoved -> 1, minFileSize -> 1628, numAddedFiles -> 1, maxFileSize -> 1628, p75FileSize -> 1628, p50FileSize -> 1628, numAddedBytes -> 1628}                                                                                                                                                                                                                                                                                                                                                                                                                                                  |NULL        |Databricks-Runtime/16.4.x-aarch64-photon-scala2.12|\n|27     |2025-07-09 07:06:11|75452552879213|chillimunthagowthami@gmail.com|MERGE                            |{predicate -> [\"(product_id#15360 = product_id#15339)\"], clusterBy -> [], matchedPredicates -> [{\"actionType\":\"update\"}], statsOnLoad -> false, notMatchedBySourcePredicates -> [], notMatchedPredicates -> [{\"actionType\":\"insert\"}]}|NULL|NULL    |0709-061657-nr1o701z-v2n|26         |WriteSerializable|false        |{numTargetRowsCopied -> 0, numTargetRowsDeleted -> 0, numTargetFilesAdded -> 3, numTargetBytesAdded -> 4384, numTargetBytesRemoved -> 0, numTargetDeletionVectorsAdded -> 1, numTargetRowsMatchedUpdated -> 1, executionTimeMs -> 2186, materializeSourceTimeMs -> 56, numTargetRowsInserted -> 2, numTargetRowsMatchedDeleted -> 0, numTargetDeletionVectorsUpdated -> 0, scanTimeMs -> 589, numTargetRowsUpdated -> 1, numOutputRows -> 3, numTargetDeletionVectorsRemoved -> 0, numTargetRowsNotMatchedBySourceUpdated -> 0, numTargetChangeFilesAdded -> 0, numSourceRows -> 3, numTargetFilesRemoved -> 0, numTargetRowsNotMatchedBySourceDeleted -> 0, rewriteTimeMs -> 1484}  |NULL        |Databricks-Runtime/16.4.x-aarch64-photon-scala2.12|\n|26     |2025-07-09 07:05:59|75452552879213|chillimunthagowthami@gmail.com|WRITE                            |{mode -> Append, statsOnLoad -> false, partitionBy -> []}                                                                                                                                                                             |NULL|NULL    |0709-061657-nr1o701z-v2n|25         |WriteSerializable|true         |{numFiles -> 0, numOutputRows -> 0, numOutputBytes -> 0}                                                                                                                                                                                                                                                                                                                                                                                                                                                                                                                                                                                                                             |NULL        |Databricks-Runtime/16.4.x-aarch64-photon-scala2.12|\n|25     |2025-07-09 07:04:53|75452552879213|chillimunthagowthami@gmail.com|WRITE                            |{mode -> Append, statsOnLoad -> false, partitionBy -> []}                                                                                                                                                                             |NULL|NULL    |0709-061657-nr1o701z-v2n|24         |WriteSerializable|true         |{numFiles -> 0, numOutputRows -> 0, numOutputBytes -> 0}                                                                                                                                                                                                                                                                                                                                                                                                                                                                                                                                                                                                                             |NULL        |Databricks-Runtime/16.4.x-aarch64-photon-scala2.12|\n|24     |2025-07-09 07:04:18|75452552879213|chillimunthagowthami@gmail.com|WRITE                            |{mode -> Append, statsOnLoad -> false, partitionBy -> []}                                                                                                                                                                             |NULL|NULL    |0709-061657-nr1o701z-v2n|23         |WriteSerializable|true         |{numFiles -> 0, numOutputRows -> 0, numOutputBytes -> 0}                                                                                                                                                                                                                                                                                                                                                                                                                                                                                                                                                                                                                             |NULL        |Databricks-Runtime/16.4.x-aarch64-photon-scala2.12|\n|23     |2025-07-09 07:04:07|75452552879213|chillimunthagowthami@gmail.com|WRITE                            |{mode -> Append, statsOnLoad -> false, partitionBy -> []}                                                                                                                                                                             |NULL|NULL    |0709-061657-nr1o701z-v2n|22         |WriteSerializable|true         |{numFiles -> 0, numOutputRows -> 0, numOutputBytes -> 0}                                                                                                                                                                                                                                                                                                                                                                                                                                                                                                                                                                                                                             |NULL        |Databricks-Runtime/16.4.x-aarch64-photon-scala2.12|\n|22     |2025-07-09 07:00:27|75452552879213|chillimunthagowthami@gmail.com|CREATE OR REPLACE TABLE AS SELECT|{partitionBy -> [], clusterBy -> [], description -> NULL, isManaged -> true, properties -> {\"delta.enableDeletionVectors\":\"true\"}, statsOnLoad -> true}                                                                               |NULL|NULL    |0709-061657-nr1o701z-v2n|21         |WriteSerializable|false        |{numFiles -> 1, numRemovedFiles -> 1, numRemovedBytes -> 1355, numOutputRows -> 3, numOutputBytes -> 1355}                                                                                                                                                                                                                                                                                                                                                                                                                                                                                                                                                                           |NULL        |Databricks-Runtime/16.4.x-aarch64-photon-scala2.12|\n|21     |2025-07-09 06:59:26|75452552879213|chillimunthagowthami@gmail.com|CREATE OR REPLACE TABLE AS SELECT|{partitionBy -> [], clusterBy -> [], description -> NULL, isManaged -> true, properties -> {\"delta.enableDeletionVectors\":\"true\"}, statsOnLoad -> true}                                                                               |NULL|NULL    |0709-061657-nr1o701z-v2n|20         |WriteSerializable|false        |{numFiles -> 1, numRemovedFiles -> 1, numRemovedBytes -> 1411, numOutputRows -> 3, numOutputBytes -> 1355}                                                                                                                                                                                                                                                                                                                                                                                                                                                                                                                                                                           |NULL        |Databricks-Runtime/16.4.x-aarch64-photon-scala2.12|\n|20     |2025-07-09 06:59:06|75452552879213|chillimunthagowthami@gmail.com|OPTIMIZE                         |{predicate -> [], auto -> true, clusterBy -> [], zOrderBy -> [], batchId -> 0}                                                                                                                                                        |NULL|NULL    |0709-061657-nr1o701z-v2n|19         |SnapshotIsolation|false        |{numRemovedFiles -> 4, numRemovedBytes -> 5130, p25FileSize -> 1411, numDeletionVectorsRemoved -> 1, minFileSize -> 1411, numAddedFiles -> 1, maxFileSize -> 1411, p75FileSize -> 1411, p50FileSize -> 1411, numAddedBytes -> 1411}                                                                                                                                                                                                                                                                                                                                                                                                                                                  |NULL        |Databricks-Runtime/16.4.x-aarch64-photon-scala2.12|\n|19     |2025-07-09 06:59:03|75452552879213|chillimunthagowthami@gmail.com|MERGE                            |{predicate -> [\"(product_id#11358 = product_id#11338)\"], clusterBy -> [], matchedPredicates -> [{\"actionType\":\"update\"}], statsOnLoad -> true, notMatchedBySourcePredicates -> [], notMatchedPredicates -> [{\"actionType\":\"insert\"}]} |NULL|NULL    |0709-061657-nr1o701z-v2n|18         |WriteSerializable|false        |{numTargetRowsCopied -> 0, numTargetRowsDeleted -> 0, numTargetFilesAdded -> 3, numTargetBytesAdded -> 3775, numTargetBytesRemoved -> 0, numTargetDeletionVectorsAdded -> 1, numTargetRowsMatchedUpdated -> 1, executionTimeMs -> 5139, materializeSourceTimeMs -> 375, numTargetRowsInserted -> 2, numTargetRowsMatchedDeleted -> 0, numTargetDeletionVectorsUpdated -> 0, scanTimeMs -> 2443, numTargetRowsUpdated -> 1, numOutputRows -> 3, numTargetDeletionVectorsRemoved -> 0, numTargetRowsNotMatchedBySourceUpdated -> 0, numTargetChangeFilesAdded -> 0, numSourceRows -> 3, numTargetFilesRemoved -> 0, numTargetRowsNotMatchedBySourceDeleted -> 0, rewriteTimeMs -> 2192}|NULL        |Databricks-Runtime/16.4.x-aarch64-photon-scala2.12|\n|18     |2025-07-09 06:58:07|75452552879213|chillimunthagowthami@gmail.com|CREATE OR REPLACE TABLE AS SELECT|{partitionBy -> [], clusterBy -> [], description -> NULL, isManaged -> true, properties -> {\"delta.enableDeletionVectors\":\"true\"}, statsOnLoad -> true}                                                                               |NULL|NULL    |0709-061657-nr1o701z-v2n|17         |WriteSerializable|false        |{numFiles -> 1, numRemovedFiles -> 1, numRemovedBytes -> 1355, numOutputRows -> 3, numOutputBytes -> 1355}                                                                                                                                                                                                                                                                                                                                                                                                                                                                                                                                                                           |NULL        |Databricks-Runtime/16.4.x-aarch64-photon-scala2.12|\n|17     |2025-07-08 05:38:06|75452552879213|chillimunthagowthami@gmail.com|CREATE OR REPLACE TABLE AS SELECT|{partitionBy -> [], clusterBy -> [], description -> NULL, isManaged -> true, properties -> {\"delta.enableDeletionVectors\":\"true\"}, statsOnLoad -> true}                                                                               |NULL|NULL    |0708-053332-i294c66e-v2n|16         |WriteSerializable|false        |{numFiles -> 1, numRemovedFiles -> 1, numRemovedBytes -> 1411, numOutputRows -> 3, numOutputBytes -> 1355}                                                                                                                                                                                                                                                                                                                                                                                                                                                                                                                                                                           |NULL        |Databricks-Runtime/16.4.x-aarch64-photon-scala2.12|\n|16     |2025-07-08 05:38:03|75452552879213|chillimunthagowthami@gmail.com|OPTIMIZE                         |{predicate -> [], auto -> true, clusterBy -> [], zOrderBy -> [], batchId -> 0}                                                                                                                                                        |NULL|NULL    |0708-053332-i294c66e-v2n|15         |SnapshotIsolation|false        |{numRemovedFiles -> 4, numRemovedBytes -> 5130, p25FileSize -> 1411, numDeletionVectorsRemoved -> 1, minFileSize -> 1411, numAddedFiles -> 1, maxFileSize -> 1411, p75FileSize -> 1411, p50FileSize -> 1411, numAddedBytes -> 1411}                                                                                                                                                                                                                                                                                                                                                                                                                                                  |NULL        |Databricks-Runtime/16.4.x-aarch64-photon-scala2.12|\n|15     |2025-07-08 05:38:01|75452552879213|chillimunthagowthami@gmail.com|MERGE                            |{predicate -> [\"(product_id#17490 = product_id#17538)\"], clusterBy -> [], matchedPredicates -> [{\"actionType\":\"update\"}], statsOnLoad -> true, notMatchedBySourcePredicates -> [], notMatchedPredicates -> [{\"actionType\":\"insert\"}]} |NULL|NULL    |0708-053332-i294c66e-v2n|14         |WriteSerializable|false        |{numTargetRowsCopied -> 0, numTargetRowsDeleted -> 0, numTargetFilesAdded -> 3, numTargetBytesAdded -> 3775, numTargetBytesRemoved -> 0, numTargetDeletionVectorsAdded -> 1, numTargetRowsMatchedUpdated -> 1, executionTimeMs -> 1958, materializeSourceTimeMs -> 77, numTargetRowsInserted -> 2, numTargetRowsMatchedDeleted -> 0, numTargetDeletionVectorsUpdated -> 0, scanTimeMs -> 654, numTargetRowsUpdated -> 1, numOutputRows -> 3, numTargetDeletionVectorsRemoved -> 0, numTargetRowsNotMatchedBySourceUpdated -> 0, numTargetChangeFilesAdded -> 0, numSourceRows -> 3, numTargetFilesRemoved -> 0, numTargetRowsNotMatchedBySourceDeleted -> 0, rewriteTimeMs -> 1174}  |NULL        |Databricks-Runtime/16.4.x-aarch64-photon-scala2.12|\n|14     |2025-07-08 05:37:58|75452552879213|chillimunthagowthami@gmail.com|CREATE OR REPLACE TABLE AS SELECT|{partitionBy -> [], clusterBy -> [], description -> NULL, isManaged -> true, properties -> {\"delta.enableDeletionVectors\":\"true\"}, statsOnLoad -> true}                                                                               |NULL|NULL    |0708-053332-i294c66e-v2n|13         |WriteSerializable|false        |{numFiles -> 1, numRemovedFiles -> 1, numRemovedBytes -> 1355, numOutputRows -> 3, numOutputBytes -> 1355}                                                                                                                                                                                                                                                                                                                                                                                                                                                                                                                                                                           |NULL        |Databricks-Runtime/16.4.x-aarch64-photon-scala2.12|\n|13     |2025-07-08 05:37:26|75452552879213|chillimunthagowthami@gmail.com|CREATE OR REPLACE TABLE AS SELECT|{partitionBy -> [], clusterBy -> [], description -> NULL, isManaged -> true, properties -> {\"delta.enableDeletionVectors\":\"true\"}, statsOnLoad -> true}                                                                               |NULL|NULL    |0708-053332-i294c66e-v2n|12         |WriteSerializable|false        |{numFiles -> 1, numRemovedFiles -> 1, numRemovedBytes -> 1411, numOutputRows -> 3, numOutputBytes -> 1355}                                                                                                                                                                                                                                                                                                                                                                                                                                                                                                                                                                           |NULL        |Databricks-Runtime/16.4.x-aarch64-photon-scala2.12|\n|12     |2025-07-08 05:37:21|75452552879213|chillimunthagowthami@gmail.com|OPTIMIZE                         |{predicate -> [], auto -> true, clusterBy -> [], zOrderBy -> [], batchId -> 0}                                                                                                                                                        |NULL|NULL    |0708-053332-i294c66e-v2n|11         |SnapshotIsolation|false        |{numRemovedFiles -> 4, numRemovedBytes -> 5130, p25FileSize -> 1411, numDeletionVectorsRemoved -> 1, minFileSize -> 1411, numAddedFiles -> 1, maxFileSize -> 1411, p75FileSize -> 1411, p50FileSize -> 1411, numAddedBytes -> 1411}                                                                                                                                                                                                                                                                                                                                                                                                                                                  |NULL        |Databricks-Runtime/16.4.x-aarch64-photon-scala2.12|\n|11     |2025-07-08 05:37:19|75452552879213|chillimunthagowthami@gmail.com|MERGE                            |{predicate -> [\"(product_id#15364 = product_id#15412)\"], clusterBy -> [], matchedPredicates -> [{\"actionType\":\"update\"}], statsOnLoad -> true, notMatchedBySourcePredicates -> [], notMatchedPredicates -> [{\"actionType\":\"insert\"}]} |NULL|NULL    |0708-053332-i294c66e-v2n|10         |WriteSerializable|false        |{numTargetRowsCopied -> 0, numTargetRowsDeleted -> 0, numTargetFilesAdded -> 3, numTargetBytesAdded -> 3775, numTargetBytesRemoved -> 0, numTargetDeletionVectorsAdded -> 1, numTargetRowsMatchedUpdated -> 1, executionTimeMs -> 2290, materializeSourceTimeMs -> 66, numTargetRowsInserted -> 2, numTargetRowsMatchedDeleted -> 0, numTargetDeletionVectorsUpdated -> 0, scanTimeMs -> 820, numTargetRowsUpdated -> 1, numOutputRows -> 3, numTargetDeletionVectorsRemoved -> 0, numTargetRowsNotMatchedBySourceUpdated -> 0, numTargetChangeFilesAdded -> 0, numSourceRows -> 3, numTargetFilesRemoved -> 0, numTargetRowsNotMatchedBySourceDeleted -> 0, rewriteTimeMs -> 1336}  |NULL        |Databricks-Runtime/16.4.x-aarch64-photon-scala2.12|\n|10     |2025-07-08 05:37:16|75452552879213|chillimunthagowthami@gmail.com|CREATE OR REPLACE TABLE AS SELECT|{partitionBy -> [], clusterBy -> [], description -> NULL, isManaged -> true, properties -> {\"delta.enableDeletionVectors\":\"true\"}, statsOnLoad -> true}                                                                               |NULL|NULL    |0708-053332-i294c66e-v2n|9          |WriteSerializable|false        |{numFiles -> 1, numRemovedFiles -> 1, numRemovedBytes -> 1411, numOutputRows -> 3, numOutputBytes -> 1355}                                                                                                                                                                                                                                                                                                                                                                                                                                                                                                                                                                           |NULL        |Databricks-Runtime/16.4.x-aarch64-photon-scala2.12|\n|9      |2025-07-08 05:36:40|75452552879213|chillimunthagowthami@gmail.com|OPTIMIZE                         |{predicate -> [], auto -> true, clusterBy -> [], zOrderBy -> [], batchId -> 0}                                                                                                                                                        |NULL|NULL    |0708-053332-i294c66e-v2n|8          |SnapshotIsolation|false        |{numRemovedFiles -> 4, numRemovedBytes -> 5130, p25FileSize -> 1411, numDeletionVectorsRemoved -> 1, minFileSize -> 1411, numAddedFiles -> 1, maxFileSize -> 1411, p75FileSize -> 1411, p50FileSize -> 1411, numAddedBytes -> 1411}                                                                                                                                                                                                                                                                                                                                                                                                                                                  |NULL        |Databricks-Runtime/16.4.x-aarch64-photon-scala2.12|\n+-------+-------------------+--------------+------------------------------+---------------------------------+--------------------------------------------------------------------------------------------------------------------------------------------------------------------------------------------------------------------------------------+----+--------+------------------------+-----------+-----------------+-------------+-------------------------------------------------------------------------------------------------------------------------------------------------------------------------------------------------------------------------------------------------------------------------------------------------------------------------------------------------------------------------------------------------------------------------------------------------------------------------------------------------------------------------------------------------------------------------------------------------------------------------------------------------------------------------------------+------------+--------------------------------------------------+\nonly showing top 20 rows\n"
     ]
    }
   ],
   "source": [
    "\n",
    "delta_table.alias(\"target\") \\\n",
    "    .merge(df_updates.alias(\"source\"), \"target.product_id = source.product_id\") \\\n",
    "    .whenMatchedUpdateAll() \\\n",
    "    .whenNotMatchedInsertAll() \\\n",
    "    .execute()\n",
    "\n",
    "spark.sql(\"SELECT * FROM default.products\").show()\n",
    "\n",
    "spark.sql(\"DESCRIBE HISTORY default.products\").show(truncate=False)\n",
    "\n",
    "\n"
   ]
  },
  {
   "cell_type": "code",
   "execution_count": 0,
   "metadata": {
    "application/vnd.databricks.v1+cell": {
     "cellMetadata": {
      "byteLimit": 2048000,
      "rowLimit": 10000
     },
     "inputWidgets": {},
     "nuid": "bae52eb4-c506-4e87-8cdd-95295703365d",
     "showTitle": false,
     "tableResultSettingsMap": {},
     "title": ""
    }
   },
   "outputs": [
    {
     "output_type": "stream",
     "name": "stdout",
     "output_type": "stream",
     "text": [
      "+----------+----------+-----------+------+\n|product_id|      name|   category| price|\n+----------+----------+-----------+------+\n|      P001|    Laptop|Electronics|999.99|\n|      P002|Smartphone|Electronics|499.99|\n|      P003|   T-Shirt|   Clothing| 29.99|\n+----------+----------+-----------+------+\n\n"
     ]
    }
   ],
   "source": [
    "spark.read.format(\"delta\").option(\"versionAsOf\",1).table(\"default.products\").show()\n"
   ]
  },
  {
   "cell_type": "code",
   "execution_count": 0,
   "metadata": {
    "application/vnd.databricks.v1+cell": {
     "cellMetadata": {
      "byteLimit": 2048000,
      "rowLimit": 10000
     },
     "inputWidgets": {},
     "nuid": "cabc89e7-aa25-44a2-bbb8-acff277863f0",
     "showTitle": false,
     "tableResultSettingsMap": {},
     "title": ""
    }
   },
   "outputs": [
    {
     "output_type": "stream",
     "name": "stdout",
     "output_type": "stream",
     "text": [
      "+----------+----------+-----------+------+\n|product_id|      name|   category| price|\n+----------+----------+-----------+------+\n|      P001|    Laptop|Electronics|999.99|\n|      P002|Smartphone|Electronics|499.99|\n|      P003|   T-Shirt|   Clothing| 29.99|\n+----------+----------+-----------+------+\n\n"
     ]
    }
   ],
   "source": [
    "df_before_upsert = spark.read.format(\"delta\").option(\"versionAsOf\", 0).table(\"default.products\")\n",
    "df_before_upsert.show()\n"
   ]
  },
  {
   "cell_type": "code",
   "execution_count": 0,
   "metadata": {
    "application/vnd.databricks.v1+cell": {
     "cellMetadata": {
      "byteLimit": 2048000,
      "rowLimit": 10000
     },
     "inputWidgets": {},
     "nuid": "cc54241c-f7a9-4056-8570-3f0c1d0ddbaa",
     "showTitle": false,
     "tableResultSettingsMap": {},
     "title": ""
    }
   },
   "outputs": [
    {
     "output_type": "stream",
     "name": "stdout",
     "output_type": "stream",
     "text": [
      "+----------+----------+-----------+------+\n|product_id|      name|   category| price|\n+----------+----------+-----------+------+\n|      P001|    Laptop|Electronics|999.99|\n|      P002|Smartphone|Electronics|499.99|\n|      P003|   T-Shirt|   Clothing| 29.99|\n+----------+----------+-----------+------+\n\n"
     ]
    }
   ],
   "source": [
    "\n",
    "df2 = spark.read.table(\"default.products\")\n",
    "df2.orderBy(\"product_id\").show()\n",
    "     \n",
    "\n",
    "\n"
   ]
  },
  {
   "cell_type": "code",
   "execution_count": 0,
   "metadata": {
    "application/vnd.databricks.v1+cell": {
     "cellMetadata": {
      "byteLimit": 2048000,
      "rowLimit": 10000
     },
     "inputWidgets": {},
     "nuid": "3c15f6b6-be32-4ca7-a49c-193f379db12f",
     "showTitle": false,
     "tableResultSettingsMap": {},
     "title": ""
    }
   },
   "outputs": [
    {
     "output_type": "stream",
     "name": "stdout",
     "output_type": "stream",
     "text": [
      "+----------+----------+-----------+------+\n|product_id|      name|   category| price|\n+----------+----------+-----------+------+\n|      P001|    Laptop|Electronics|999.99|\n|      P002|Smartphone|Electronics|499.99|\n|      P003|   T-Shirt|   Clothing| 29.99|\n+----------+----------+-----------+------+\n\n"
     ]
    }
   ],
   "source": [
    "\n",
    "df_before_upsert = spark.read.format(\"delta\").option(\"versionAsOf\", 0).table(\"default.products\")\n",
    "df_before_upsert.show()"
   ]
  }
 ],
 "metadata": {
  "application/vnd.databricks.v1+notebook": {
   "computePreferences": null,
   "dashboards": [],
   "environmentMetadata": {
    "base_environment": "",
    "environment_version": "2"
   },
   "inputWidgetPreferences": null,
   "language": "python",
   "notebookMetadata": {
    "pythonIndentUnit": 4
   },
   "notebookName": "Untitled Notebook 2025-07-08 11:02:59",
   "widgets": {}
  },
  "language_info": {
   "name": "python"
  }
 },
 "nbformat": 4,
 "nbformat_minor": 0
}